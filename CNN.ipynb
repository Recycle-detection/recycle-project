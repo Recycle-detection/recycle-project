{
  "nbformat": 4,
  "nbformat_minor": 0,
  "metadata": {
    "colab": {
      "provenance": []
    },
    "kernelspec": {
      "name": "python3",
      "display_name": "Python 3"
    },
    "language_info": {
      "name": "python"
    },
    "accelerator": "GPU",
    "gpuClass": "standard"
  },
  "cells": [
    {
      "cell_type": "code",
      "metadata": {
        "colab": {
          "base_uri": "https://localhost:8080/"
        },
        "id": "bGS3cg92GFQ9",
        "outputId": "104f49ce-3aa6-423c-8164-82d71d6fe192"
      },
      "source": [
        "from google.colab import drive\n",
        "\n",
        "drive.mount('/content/gdrive')   # google drive를 google colab에 연결"
      ],
      "execution_count": null,
      "outputs": [
        {
          "output_type": "stream",
          "name": "stdout",
          "text": [
            "Mounted at /content/gdrive\n"
          ]
        }
      ]
    },
    {
      "cell_type": "code",
      "source": [
        "%cd /content/gdrive/My Drive/Colab Notebooks/Hackathon"
      ],
      "metadata": {
        "colab": {
          "base_uri": "https://localhost:8080/"
        },
        "id": "mzTZSjwvrVU3",
        "outputId": "684652b1-9751-4281-b211-eae9926b4057"
      },
      "execution_count": null,
      "outputs": [
        {
          "output_type": "stream",
          "name": "stdout",
          "text": [
            "/content/gdrive/My Drive/Colab Notebooks/Hackathon\n"
          ]
        }
      ]
    },
    {
      "cell_type": "code",
      "source": [
        "import numpy as np\n",
        "from PIL import Image\n",
        "import matplotlib.pyplot as plt\n",
        "\n",
        "def jpg_image_to_array(image_path, size):\n",
        "  image = Image.open(image_path)      # open image\n",
        "  image = image.resize((size, size))  #resize\n",
        "  im_arr = np.fromstring(image.tobytes(), dtype=np.uint8) #convert to int ndarray\n",
        "  print(im_arr.shape)\n",
        "  return im_arr"
      ],
      "metadata": {
        "id": "NR2DmPOxjby_"
      },
      "execution_count": null,
      "outputs": []
    },
    {
      "cell_type": "code",
      "source": [
        "import numpy as np\n",
        "import tensorflow as tf\n",
        "from tensorflow.keras.models import Sequential\n",
        "from tensorflow.keras.layers import Flatten,Dense,Conv2D,MaxPooling2D,Dropout\n",
        "from tensorflow.keras.optimizers import Adam\n",
        "from tensorflow.keras.applications.resnet50 import ResNet50,preprocess_input #resnet 사용할것.\n",
        "from tensorflow.keras.preprocessing import image\n",
        "import os"
      ],
      "metadata": {
        "id": "NeZSTreDruj5"
      },
      "execution_count": null,
      "outputs": []
    },
    {
      "cell_type": "code",
      "source": [
        "def read_all_file(path):\n",
        "    output = os.listdir(path)\n",
        "    file_list = []\n",
        "\n",
        "    for i in output:\n",
        "        if os.path.isdir(path+\"/\"+i): \n",
        "            file_list.extend(read_all_file(path+\"/\"+i)) \n",
        "        elif os.path.isfile(path+\"/\"+i):\n",
        "            file_list.append(path+\"/\"+i)\n",
        "\n",
        "    return file_list"
      ],
      "metadata": {
        "id": "5ak4ZpHhsdzw"
      },
      "execution_count": null,
      "outputs": []
    },
    {
      "cell_type": "code",
      "source": [
        "%ls"
      ],
      "metadata": {
        "colab": {
          "base_uri": "https://localhost:8080/"
        },
        "id": "0u5mDjh-ssJ3",
        "outputId": "8ba8de11-2da8-4097-c077-76366482f6c5"
      },
      "execution_count": null,
      "outputs": [
        {
          "output_type": "stream",
          "name": "stdout",
          "text": [
            "\u001b[0m\u001b[01;34mclean\u001b[0m/  \u001b[01;34mdirty\u001b[0m/\n"
          ]
        }
      ]
    },
    {
      "cell_type": "code",
      "source": [
        "dirty = read_all_file(\"dirty\")\n",
        "dirty[:5]"
      ],
      "metadata": {
        "colab": {
          "base_uri": "https://localhost:8080/"
        },
        "id": "i5t-My8csfDH",
        "outputId": "54d81ac5-7fbe-45b9-e044-e90c2451d6f3"
      },
      "execution_count": null,
      "outputs": [
        {
          "output_type": "execute_result",
          "data": {
            "text/plain": [
              "['dirty/다운로드.jpg',\n",
              " 'dirty/images3.jpg',\n",
              " 'dirty/images4.jpg',\n",
              " 'dirty/images7.jpg',\n",
              " 'dirty/images11.jpg']"
            ]
          },
          "metadata": {},
          "execution_count": 41
        }
      ]
    },
    {
      "cell_type": "code",
      "source": [
        "clean = read_all_file(\"clean\")\n",
        "clean[:5]"
      ],
      "metadata": {
        "colab": {
          "base_uri": "https://localhost:8080/"
        },
        "id": "d5Tkk37vt4cC",
        "outputId": "82d9c867-2bdc-4821-b3df-79f2529fe73b"
      },
      "execution_count": null,
      "outputs": [
        {
          "output_type": "execute_result",
          "data": {
            "text/plain": [
              "['clean/다운로드.jpg',\n",
              " 'clean/다운로드 (1).jpg',\n",
              " 'clean/다운로드 (2).jpg',\n",
              " 'clean/배달-플라스틱-용기-pc0xy5au4wfk1aatkoxwi4elovlwaygo4v6ifdyrcw.jpg',\n",
              " 'clean/다운로드 (3).jpg']"
            ]
          },
          "metadata": {},
          "execution_count": 19
        }
      ]
    },
    {
      "cell_type": "code",
      "source": [
        "x_dirty = []\n",
        "for d in dirty:\n",
        "  img = image.load_img(d,target_size= (224, 224))\n",
        "  x = image.img_to_array(img)\n",
        "  x = preprocess_input(x)\n",
        "  x_dirty.append(x)"
      ],
      "metadata": {
        "id": "TQ3By6k9sI-c"
      },
      "execution_count": null,
      "outputs": []
    },
    {
      "cell_type": "code",
      "source": [
        "x_clean = []\n",
        "for c in clean:\n",
        "  img = image.load_img(c,target_size= (224, 224))\n",
        "  x = image.img_to_array(img)\n",
        "  x = preprocess_input(x)\n",
        "  x_clean.append(x)"
      ],
      "metadata": {
        "id": "QyuI2xpdt1kK"
      },
      "execution_count": null,
      "outputs": []
    },
    {
      "cell_type": "code",
      "source": [
        "y_dirty = np.ones(len(x_dirty))\n",
        "y_clean = np.ones(len(x_clean))"
      ],
      "metadata": {
        "id": "AA1OsoGluiH8"
      },
      "execution_count": null,
      "outputs": []
    },
    {
      "cell_type": "code",
      "source": [
        "x = x_dirty + x_clean\n",
        "y = list(y_dirty) + list(y_clean)"
      ],
      "metadata": {
        "id": "WwNh_DCYu74r"
      },
      "execution_count": null,
      "outputs": []
    },
    {
      "cell_type": "code",
      "source": [
        "x = np.asarray(x)\n",
        "y = np.asarray(y)"
      ],
      "metadata": {
        "id": "jA5pE_VMvwMO"
      },
      "execution_count": null,
      "outputs": []
    },
    {
      "cell_type": "code",
      "source": [
        "cnn=Sequential()\n",
        "cnn.add(Conv2D(32,(3,3),activation='relu',input_shape=(224,224,3))) \n",
        "cnn.add(Conv2D(32,(3,3),activation='relu'))\n",
        "cnn.add(MaxPooling2D(pool_size=(2,2)))\n",
        "cnn.add(Dropout(0.25))\n",
        "cnn.add(Conv2D(64,(3,3),activation='relu'))\n",
        "cnn.add(Conv2D(64,(3,3),activation='relu'))\n",
        "cnn.add(MaxPooling2D(pool_size=(2,2)))\n",
        "cnn.add(Dropout(0.25))\n",
        "cnn.add(Flatten())\n",
        "cnn.add(Dense(512,activation='relu'))\n",
        "cnn.add(Dropout(0.5))\n",
        "cnn.add(Dense(1,activation='sigmoid'))\n",
        "\n",
        "# 신경망 모델 학습\n",
        "cnn.compile(loss='binary_crossentropy',optimizer=Adam(),metrics=['accuracy'])\n",
        "early_stop = tf.keras.callbacks.EarlyStopping(monitor = 'val_loss', patience = 30, mode='min') \n",
        "hist=cnn.fit(x,y,batch_size=100,epochs=200,validation_split=0.1,callbacks = [early_stop],verbose=2) \n",
        "\n",
        "# 신경망 모델 정확률 평가\n",
        "res=cnn.evaluate(x,y,verbose=0)\n",
        "print(\"정확률은\",res[1]*100)\n",
        "\n",
        "import matplotlib.pyplot as plt\n",
        "\n",
        "# 정확률 그래프\n",
        "plt.plot(hist.history['accuracy'])\n",
        "plt.plot(hist.history['val_accuracy'])\n",
        "plt.title('Model accuracy')\n",
        "plt.ylabel('Accuracy')\n",
        "plt.xlabel('Epoch')\n",
        "plt.legend(['Train','Validation'], loc='best')\n",
        "plt.grid()\n",
        "plt.show()\n",
        "\n",
        "# 손실 함수 그래프\n",
        "plt.plot(hist.history['loss'])\n",
        "plt.plot(hist.history['val_loss'])\n",
        "plt.title('Model loss')\n",
        "plt.ylabel('Loss')\n",
        "plt.xlabel('Epoch')\n",
        "plt.legend(['Train','Validation'],loc='best')\n",
        "plt.grid()\n",
        "plt.show()\n",
        "cnn.save(\"my_cnn.h5\")"
      ],
      "metadata": {
        "colab": {
          "base_uri": "https://localhost:8080/",
          "height": 1000
        },
        "id": "5LWMUn-NvcZg",
        "outputId": "1ff55b77-4ab5-46fc-fab4-6beb41a909ae"
      },
      "execution_count": null,
      "outputs": [
        {
          "output_type": "stream",
          "name": "stdout",
          "text": [
            "Epoch 1/200\n",
            "1/1 - 2s - loss: 11.9631 - accuracy: 0.4111 - val_loss: 0.0000e+00 - val_accuracy: 1.0000 - 2s/epoch - 2s/step\n",
            "Epoch 2/200\n",
            "1/1 - 0s - loss: 0.0000e+00 - accuracy: 1.0000 - val_loss: 0.0000e+00 - val_accuracy: 1.0000 - 360ms/epoch - 360ms/step\n",
            "Epoch 3/200\n",
            "1/1 - 0s - loss: 0.0000e+00 - accuracy: 1.0000 - val_loss: 0.0000e+00 - val_accuracy: 1.0000 - 429ms/epoch - 429ms/step\n",
            "Epoch 4/200\n",
            "1/1 - 0s - loss: 0.0000e+00 - accuracy: 1.0000 - val_loss: 0.0000e+00 - val_accuracy: 1.0000 - 383ms/epoch - 383ms/step\n",
            "Epoch 5/200\n",
            "1/1 - 0s - loss: 0.0000e+00 - accuracy: 1.0000 - val_loss: 0.0000e+00 - val_accuracy: 1.0000 - 390ms/epoch - 390ms/step\n",
            "Epoch 6/200\n",
            "1/1 - 0s - loss: 0.0000e+00 - accuracy: 1.0000 - val_loss: 0.0000e+00 - val_accuracy: 1.0000 - 354ms/epoch - 354ms/step\n",
            "Epoch 7/200\n",
            "1/1 - 0s - loss: 0.0000e+00 - accuracy: 1.0000 - val_loss: 0.0000e+00 - val_accuracy: 1.0000 - 355ms/epoch - 355ms/step\n",
            "Epoch 8/200\n",
            "1/1 - 0s - loss: 0.0000e+00 - accuracy: 1.0000 - val_loss: 0.0000e+00 - val_accuracy: 1.0000 - 355ms/epoch - 355ms/step\n",
            "Epoch 9/200\n",
            "1/1 - 0s - loss: 0.0000e+00 - accuracy: 1.0000 - val_loss: 0.0000e+00 - val_accuracy: 1.0000 - 356ms/epoch - 356ms/step\n",
            "Epoch 10/200\n",
            "1/1 - 0s - loss: 0.0000e+00 - accuracy: 1.0000 - val_loss: 0.0000e+00 - val_accuracy: 1.0000 - 353ms/epoch - 353ms/step\n",
            "Epoch 11/200\n",
            "1/1 - 0s - loss: 0.0000e+00 - accuracy: 1.0000 - val_loss: 0.0000e+00 - val_accuracy: 1.0000 - 353ms/epoch - 353ms/step\n",
            "Epoch 12/200\n",
            "1/1 - 0s - loss: 0.0000e+00 - accuracy: 1.0000 - val_loss: 0.0000e+00 - val_accuracy: 1.0000 - 368ms/epoch - 368ms/step\n",
            "Epoch 13/200\n",
            "1/1 - 0s - loss: 0.0000e+00 - accuracy: 1.0000 - val_loss: 0.0000e+00 - val_accuracy: 1.0000 - 351ms/epoch - 351ms/step\n",
            "Epoch 14/200\n",
            "1/1 - 0s - loss: 0.0000e+00 - accuracy: 1.0000 - val_loss: 0.0000e+00 - val_accuracy: 1.0000 - 354ms/epoch - 354ms/step\n",
            "Epoch 15/200\n",
            "1/1 - 0s - loss: 0.0000e+00 - accuracy: 1.0000 - val_loss: 0.0000e+00 - val_accuracy: 1.0000 - 350ms/epoch - 350ms/step\n",
            "Epoch 16/200\n",
            "1/1 - 0s - loss: 0.0000e+00 - accuracy: 1.0000 - val_loss: 0.0000e+00 - val_accuracy: 1.0000 - 354ms/epoch - 354ms/step\n",
            "Epoch 17/200\n",
            "1/1 - 0s - loss: 0.0000e+00 - accuracy: 1.0000 - val_loss: 0.0000e+00 - val_accuracy: 1.0000 - 355ms/epoch - 355ms/step\n",
            "Epoch 18/200\n",
            "1/1 - 0s - loss: 0.0000e+00 - accuracy: 1.0000 - val_loss: 0.0000e+00 - val_accuracy: 1.0000 - 364ms/epoch - 364ms/step\n",
            "Epoch 19/200\n",
            "1/1 - 0s - loss: 0.0000e+00 - accuracy: 1.0000 - val_loss: 0.0000e+00 - val_accuracy: 1.0000 - 355ms/epoch - 355ms/step\n",
            "Epoch 20/200\n",
            "1/1 - 0s - loss: 0.0000e+00 - accuracy: 1.0000 - val_loss: 0.0000e+00 - val_accuracy: 1.0000 - 353ms/epoch - 353ms/step\n",
            "Epoch 21/200\n",
            "1/1 - 0s - loss: 0.0000e+00 - accuracy: 1.0000 - val_loss: 0.0000e+00 - val_accuracy: 1.0000 - 355ms/epoch - 355ms/step\n",
            "Epoch 22/200\n",
            "1/1 - 0s - loss: 0.0000e+00 - accuracy: 1.0000 - val_loss: 0.0000e+00 - val_accuracy: 1.0000 - 357ms/epoch - 357ms/step\n",
            "Epoch 23/200\n",
            "1/1 - 0s - loss: 0.0000e+00 - accuracy: 1.0000 - val_loss: 0.0000e+00 - val_accuracy: 1.0000 - 357ms/epoch - 357ms/step\n",
            "Epoch 24/200\n",
            "1/1 - 0s - loss: 0.0000e+00 - accuracy: 1.0000 - val_loss: 0.0000e+00 - val_accuracy: 1.0000 - 356ms/epoch - 356ms/step\n",
            "Epoch 25/200\n",
            "1/1 - 0s - loss: 0.0000e+00 - accuracy: 1.0000 - val_loss: 0.0000e+00 - val_accuracy: 1.0000 - 354ms/epoch - 354ms/step\n",
            "Epoch 26/200\n",
            "1/1 - 0s - loss: 0.0000e+00 - accuracy: 1.0000 - val_loss: 0.0000e+00 - val_accuracy: 1.0000 - 353ms/epoch - 353ms/step\n",
            "Epoch 27/200\n",
            "1/1 - 0s - loss: 0.0000e+00 - accuracy: 1.0000 - val_loss: 0.0000e+00 - val_accuracy: 1.0000 - 354ms/epoch - 354ms/step\n",
            "Epoch 28/200\n",
            "1/1 - 0s - loss: 0.0000e+00 - accuracy: 1.0000 - val_loss: 0.0000e+00 - val_accuracy: 1.0000 - 384ms/epoch - 384ms/step\n",
            "Epoch 29/200\n",
            "1/1 - 0s - loss: 0.0000e+00 - accuracy: 1.0000 - val_loss: 0.0000e+00 - val_accuracy: 1.0000 - 420ms/epoch - 420ms/step\n",
            "Epoch 30/200\n",
            "1/1 - 0s - loss: 0.0000e+00 - accuracy: 1.0000 - val_loss: 0.0000e+00 - val_accuracy: 1.0000 - 401ms/epoch - 401ms/step\n",
            "Epoch 31/200\n",
            "1/1 - 0s - loss: 0.0000e+00 - accuracy: 1.0000 - val_loss: 0.0000e+00 - val_accuracy: 1.0000 - 359ms/epoch - 359ms/step\n",
            "정확률은 100.0\n"
          ]
        },
        {
          "output_type": "display_data",
          "data": {
            "text/plain": [
              "<Figure size 432x288 with 1 Axes>"
            ],
            "image/png": "[encoded data removed]"
          },
          "metadata": {
            "needs_background": "light"
          }
        },
        {
          "output_type": "display_data",
          "data": {
            "text/plain": [
              "<Figure size 432x288 with 1 Axes>"
            ],
            "image/png": "[encoded data removed]"
          },
          "metadata": {
            "needs_background": "light"
          }
        }
      ]
    }
  ]
}